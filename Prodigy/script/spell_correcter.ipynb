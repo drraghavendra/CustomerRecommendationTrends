{
 "cells": [
  {
   "cell_type": "code",
   "execution_count": 4,
   "metadata": {},
   "outputs": [
    {
     "name": "stdout",
     "output_type": "stream",
     "text": [
      "Loading Model . . . . . . . . . . . . . . . . . . . . . . . . . . . . . . . .\n",
      "Done. 100000  words loaded . . . . . . . . . . . . . . . . . . . . . . . . . . . . . . . .\n",
      "Done. 200000  words loaded . . . . . . . . . . . . . . . . . . . . . . . . . . . . . . . .\n",
      "Done. 300000  words loaded . . . . . . . . . . . . . . . . . . . . . . . . . . . . . . . .\n",
      "Done. 400000  words loaded . . . . . . . . . . . . . . . . . . . . . . . . . . . . . . . .\n",
      "Done. 400000  words loaded!\n"
     ]
    }
   ],
   "source": [
    "import pandas as pd\n",
    "import numpy as np\n",
    "import scipy\n",
    "from glove import model\n"
   ]
  },
  {
   "cell_type": "code",
   "execution_count": 5,
   "metadata": {},
   "outputs": [],
   "source": [
    "from spell_correction import preprocess"
   ]
  },
  {
   "cell_type": "code",
   "execution_count": 6,
   "metadata": {},
   "outputs": [],
   "source": [
    "def read_top_query(pd):\n",
    "    return pd.read_csv('frequent_query.csv')"
   ]
  },
  {
   "cell_type": "code",
   "execution_count": 39,
   "metadata": {},
   "outputs": [],
   "source": [
    "def get_score_old(row):\n",
    "    try:\n",
    "        vector_1 = np.mean([model[word] for word in preprocess(row.in_query)],axis=0)\n",
    "        vector_2 = np.mean([model[word] for word in preprocess(row.query)],axis=0)\n",
    "        score=scipy.spatial.distance.cosine(vector_1, vector_2)\n",
    "        return score\n",
    "    except:pass"
   ]
  },
  {
   "cell_type": "code",
   "execution_count": 47,
   "metadata": {},
   "outputs": [],
   "source": [
    "def get_score(row):\n",
    "    try:\n",
    "        vector_1 = np.mean([model[word] for word in row.in_query.split(\" \")],axis=0)\n",
    "        vector_2 = np.mean([model[word] for word in row.query.split(\" \")],axis=0)\n",
    "        score=scipy.spatial.distance.cosine(vector_1, vector_2)\n",
    "        print(\"{0} = {1},{2}\".format(score,row.in_query,row.query))\n",
    "        return score\n",
    "    except:pass"
   ]
  },
  {
   "cell_type": "code",
   "execution_count": 41,
   "metadata": {},
   "outputs": [],
   "source": [
    "def get_top_n(q,top_df,model,n=5):\n",
    "    top_df['in_query']=q\n",
    "    vector_1 = np.mean([model[word] for word in preprocess(q)],axis=0)\n",
    "    top_df['vec']=top_df.apply(get_score,axis=1)\n",
    "    top_df['score']=top_df.apply(lambda x : scipy.spatial.distance.cosine(x.vec, x.query),axis=1)\n",
    "    return top_df.sort('score',ascending=False)[['query']].head(n).tolist()"
   ]
  },
  {
   "cell_type": "code",
   "execution_count": 42,
   "metadata": {},
   "outputs": [],
   "source": [
    "top_query=pd.read_csv('frequent_query.csv')"
   ]
  },
  {
   "cell_type": "code",
   "execution_count": 50,
   "metadata": {},
   "outputs": [],
   "source": [
    "top_query['in_query']=' '.join(preprocess(\"black shirt top\"))"
   ]
  },
  {
   "cell_type": "code",
   "execution_count": 55,
   "metadata": {},
   "outputs": [],
   "source": [
    "temp=top_query"
   ]
  },
  {
   "cell_type": "code",
   "execution_count": 56,
   "metadata": {},
   "outputs": [],
   "source": [
    "temp['in_query']='test'"
   ]
  },
  {
   "cell_type": "code",
   "execution_count": 58,
   "metadata": {},
   "outputs": [
    {
     "data": {
      "text/html": [
       "<div>\n",
       "<style scoped>\n",
       "    .dataframe tbody tr th:only-of-type {\n",
       "        vertical-align: middle;\n",
       "    }\n",
       "\n",
       "    .dataframe tbody tr th {\n",
       "        vertical-align: top;\n",
       "    }\n",
       "\n",
       "    .dataframe thead th {\n",
       "        text-align: right;\n",
       "    }\n",
       "</style>\n",
       "<table border=\"1\" class=\"dataframe\">\n",
       "  <thead>\n",
       "    <tr style=\"text-align: right;\">\n",
       "      <th></th>\n",
       "      <th>Unnamed: 0</th>\n",
       "      <th>query</th>\n",
       "      <th>in_query</th>\n",
       "      <th>score</th>\n",
       "    </tr>\n",
       "  </thead>\n",
       "  <tbody>\n",
       "    <tr>\n",
       "      <th>0</th>\n",
       "      <td>0</td>\n",
       "      <td>ashcanvas loafer</td>\n",
       "      <td>test</td>\n",
       "      <td>NaN</td>\n",
       "    </tr>\n",
       "    <tr>\n",
       "      <th>1</th>\n",
       "      <td>2</td>\n",
       "      <td>black backpack</td>\n",
       "      <td>test</td>\n",
       "      <td>0.311861</td>\n",
       "    </tr>\n",
       "    <tr>\n",
       "      <th>2</th>\n",
       "      <td>5</td>\n",
       "      <td>black belt</td>\n",
       "      <td>test</td>\n",
       "      <td>0.301824</td>\n",
       "    </tr>\n",
       "    <tr>\n",
       "      <th>3</th>\n",
       "      <td>11</td>\n",
       "      <td>black boot</td>\n",
       "      <td>test</td>\n",
       "      <td>0.295646</td>\n",
       "    </tr>\n",
       "    <tr>\n",
       "      <th>4</th>\n",
       "      <td>22</td>\n",
       "      <td>black coat outerwear</td>\n",
       "      <td>test</td>\n",
       "      <td>0.362195</td>\n",
       "    </tr>\n",
       "  </tbody>\n",
       "</table>\n",
       "</div>"
      ],
      "text/plain": [
       "   Unnamed: 0                 query in_query     score\n",
       "0           0      ashcanvas loafer     test       NaN\n",
       "1           2        black backpack     test  0.311861\n",
       "2           5            black belt     test  0.301824\n",
       "3          11            black boot     test  0.295646\n",
       "4          22  black coat outerwear     test  0.362195"
      ]
     },
     "execution_count": 58,
     "metadata": {},
     "output_type": "execute_result"
    }
   ],
   "source": [
    "temp.head()"
   ]
  },
  {
   "cell_type": "code",
   "execution_count": 57,
   "metadata": {},
   "outputs": [
    {
     "data": {
      "text/html": [
       "<div>\n",
       "<style scoped>\n",
       "    .dataframe tbody tr th:only-of-type {\n",
       "        vertical-align: middle;\n",
       "    }\n",
       "\n",
       "    .dataframe tbody tr th {\n",
       "        vertical-align: top;\n",
       "    }\n",
       "\n",
       "    .dataframe thead th {\n",
       "        text-align: right;\n",
       "    }\n",
       "</style>\n",
       "<table border=\"1\" class=\"dataframe\">\n",
       "  <thead>\n",
       "    <tr style=\"text-align: right;\">\n",
       "      <th></th>\n",
       "      <th>Unnamed: 0</th>\n",
       "      <th>query</th>\n",
       "      <th>in_query</th>\n",
       "      <th>score</th>\n",
       "    </tr>\n",
       "  </thead>\n",
       "  <tbody>\n",
       "    <tr>\n",
       "      <th>0</th>\n",
       "      <td>0</td>\n",
       "      <td>ashcanvas loafer</td>\n",
       "      <td>test</td>\n",
       "      <td>NaN</td>\n",
       "    </tr>\n",
       "    <tr>\n",
       "      <th>1</th>\n",
       "      <td>2</td>\n",
       "      <td>black backpack</td>\n",
       "      <td>test</td>\n",
       "      <td>0.311861</td>\n",
       "    </tr>\n",
       "    <tr>\n",
       "      <th>2</th>\n",
       "      <td>5</td>\n",
       "      <td>black belt</td>\n",
       "      <td>test</td>\n",
       "      <td>0.301824</td>\n",
       "    </tr>\n",
       "    <tr>\n",
       "      <th>3</th>\n",
       "      <td>11</td>\n",
       "      <td>black boot</td>\n",
       "      <td>test</td>\n",
       "      <td>0.295646</td>\n",
       "    </tr>\n",
       "    <tr>\n",
       "      <th>4</th>\n",
       "      <td>22</td>\n",
       "      <td>black coat outerwear</td>\n",
       "      <td>test</td>\n",
       "      <td>0.362195</td>\n",
       "    </tr>\n",
       "  </tbody>\n",
       "</table>\n",
       "</div>"
      ],
      "text/plain": [
       "   Unnamed: 0                 query in_query     score\n",
       "0           0      ashcanvas loafer     test       NaN\n",
       "1           2        black backpack     test  0.311861\n",
       "2           5            black belt     test  0.301824\n",
       "3          11            black boot     test  0.295646\n",
       "4          22  black coat outerwear     test  0.362195"
      ]
     },
     "execution_count": 57,
     "metadata": {},
     "output_type": "execute_result"
    }
   ],
   "source": [
    "top_query.head()"
   ]
  },
  {
   "cell_type": "code",
   "execution_count": 52,
   "metadata": {},
   "outputs": [
    {
     "name": "stdout",
     "output_type": "stream",
     "text": [
      "0.31186072829558265 = black shirt top,black backpack\n",
      "0.30182385324309446 = black shirt top,black belt\n",
      "0.29564615233266656 = black shirt top,black boot\n",
      "0.36219473115005274 = black shirt top,black coat outerwear\n",
      "0.46146812176499763 = black shirt top,black duffle bag\n",
      "0.31529388294997474 = black shirt top,black fashion watch\n",
      "0.29346022010845085 = black shirt top,black flat\n",
      "0.3485505163025403 = black shirt top,black handbag\n",
      "0.20732537146068764 = black shirt top,black hat\n",
      "0.31753287793016194 = black shirt top,black heel\n",
      "0.45737920598756965 = black shirt top,black loafer\n",
      "0.39200476083597957 = black shirt top,black luggage\n",
      "0.35321478911423887 = black shirt top,black pant\n",
      "0.4110762182233575 = black shirt top,black sandal\n",
      "0.0 = black shirt top,black shirt top\n",
      "0.27906846078377756 = black shirt top,black short\n",
      "0.4019852526843395 = black shirt top,black swimwear\n",
      "0.3718665856389304 = black shirt top,black underwear intimate\n",
      "0.33927448380221104 = black shirt top,black wallet\n",
      "0.57437256791215 = black shirt top,boat cut boot\n",
      "0.5988035619829104 = black shirt top,boat cut jean\n",
      "0.4337157963749322 = black shirt top,brown fashion watch\n",
      "0.6908738166018342 = black shirt top,chestnut boot\n",
      "0.7414315961458295 = black shirt top,cognac belt\n",
      "0.3764339467518356 = black shirt top,combo sock black color\n",
      "0.7042030338565288 = black shirt top,comfortable jumpsuit romper range\n",
      "0.8390211345553414 = black shirt top,comfortable sleepwear range\n",
      "0.14531892286414583 = black shirt top,khaki shirt top\n",
      "0.8077526661808736 = black shirt top,leopard sandal\n",
      "0.7607886657543144 = black shirt top,meme hoodies sweatshirt trend\n",
      "0.7624891861255718 = black shirt top,natural heel\n",
      "0.44586196113123355 = black shirt top,navy hat\n",
      "0.593222733479742 = black shirt top,party backpack\n",
      "0.5493963490080132 = black shirt top,party belt\n",
      "0.6018850969579445 = black shirt top,party boot\n",
      "0.6723861434711642 = black shirt top,party bracelet\n",
      "0.5457177455442586 = black shirt top,party coat outerwear\n",
      "0.4529312260415661 = black shirt top,party dress\n",
      "0.6451847383692378 = black shirt top,party duffle bag\n",
      "0.6827277913200986 = black shirt top,party earring\n",
      "0.5411540454990527 = black shirt top,party fashion watch\n",
      "0.5783079886536954 = black shirt top,party flat\n",
      "0.6371100189348315 = black shirt top,party handbag\n",
      "0.4678010609904104 = black shirt top,party hat\n",
      "0.6395499323007241 = black shirt top,party heel\n",
      "0.6026527414162235 = black shirt top,party hosiery tights\n",
      "0.7702514679105193 = black shirt top,party loafer\n",
      "0.7001290189285806 = black shirt top,party luggage\n",
      "0.5866070381560525 = black shirt top,party luxury watch\n",
      "0.6466637576262146 = black shirt top,party oxford\n",
      "0.6408568443025305 = black shirt top,party pant\n",
      "0.6099383840184749 = black shirt top,party ring\n",
      "0.7235737944738609 = black shirt top,party sandal\n",
      "0.18503381053518864 = black shirt top,party shirt top\n",
      "0.5910825092264654 = black shirt top,party short\n",
      "0.4922840014743336 = black shirt top,party skirt\n",
      "0.7434182057762202 = black shirt top,party slipper\n",
      "0.8209807570601406 = black shirt top,party sunglass\n",
      "0.4741591030617138 = black shirt top,party sweater\n",
      "0.7238369771387687 = black shirt top,party swimwear\n",
      "0.519696568127983 = black shirt top,party underwear\n",
      "0.5882907197884046 = black shirt top,party underwear intimate\n",
      "0.6396418663085848 = black shirt top,party wallet\n",
      "0.5178886016389056 = black shirt top,silver fashion watch\n",
      "0.37957351736562905 = black shirt top,white flat\n",
      "0.05813711980537528 = black shirt top,white shirt top\n",
      "0.42923840809766656 = black shirt top,white underwear intimate\n"
     ]
    }
   ],
   "source": [
    "top_query['score']=top_query.apply(get_score,axis=1)"
   ]
  },
  {
   "cell_type": "code",
   "execution_count": 54,
   "metadata": {},
   "outputs": [
    {
     "data": {
      "text/html": [
       "<div>\n",
       "<style scoped>\n",
       "    .dataframe tbody tr th:only-of-type {\n",
       "        vertical-align: middle;\n",
       "    }\n",
       "\n",
       "    .dataframe tbody tr th {\n",
       "        vertical-align: top;\n",
       "    }\n",
       "\n",
       "    .dataframe thead th {\n",
       "        text-align: right;\n",
       "    }\n",
       "</style>\n",
       "<table border=\"1\" class=\"dataframe\">\n",
       "  <thead>\n",
       "    <tr style=\"text-align: right;\">\n",
       "      <th></th>\n",
       "      <th>Unnamed: 0</th>\n",
       "      <th>query</th>\n",
       "      <th>in_query</th>\n",
       "      <th>score</th>\n",
       "    </tr>\n",
       "  </thead>\n",
       "  <tbody>\n",
       "    <tr>\n",
       "      <th>15</th>\n",
       "      <td>72</td>\n",
       "      <td>black shirt top</td>\n",
       "      <td>black shirt top</td>\n",
       "      <td>0.000000</td>\n",
       "    </tr>\n",
       "    <tr>\n",
       "      <th>78</th>\n",
       "      <td>319845</td>\n",
       "      <td>white shirt top</td>\n",
       "      <td>black shirt top</td>\n",
       "      <td>0.058137</td>\n",
       "    </tr>\n",
       "    <tr>\n",
       "      <th>37</th>\n",
       "      <td>306581</td>\n",
       "      <td>khaki shirt top</td>\n",
       "      <td>black shirt top</td>\n",
       "      <td>0.145319</td>\n",
       "    </tr>\n",
       "    <tr>\n",
       "      <th>63</th>\n",
       "      <td>317546</td>\n",
       "      <td>party shirt top</td>\n",
       "      <td>black shirt top</td>\n",
       "      <td>0.185034</td>\n",
       "    </tr>\n",
       "    <tr>\n",
       "      <th>9</th>\n",
       "      <td>39</td>\n",
       "      <td>black hat</td>\n",
       "      <td>black shirt top</td>\n",
       "      <td>0.207325</td>\n",
       "    </tr>\n",
       "  </tbody>\n",
       "</table>\n",
       "</div>"
      ],
      "text/plain": [
       "    Unnamed: 0            query         in_query     score\n",
       "15          72  black shirt top  black shirt top  0.000000\n",
       "78      319845  white shirt top  black shirt top  0.058137\n",
       "37      306581  khaki shirt top  black shirt top  0.145319\n",
       "63      317546  party shirt top  black shirt top  0.185034\n",
       "9           39        black hat  black shirt top  0.207325"
      ]
     },
     "execution_count": 54,
     "metadata": {},
     "output_type": "execute_result"
    }
   ],
   "source": [
    "top_query.sort_values('score').head(5)"
   ]
  },
  {
   "cell_type": "code",
   "execution_count": 17,
   "metadata": {},
   "outputs": [],
   "source": [
    "top_query['test']=top_query.apply(lambda x : x.query.split(\" \"),axis=1)"
   ]
  },
  {
   "cell_type": "code",
   "execution_count": 18,
   "metadata": {},
   "outputs": [
    {
     "data": {
      "text/html": [
       "<div>\n",
       "<style scoped>\n",
       "    .dataframe tbody tr th:only-of-type {\n",
       "        vertical-align: middle;\n",
       "    }\n",
       "\n",
       "    .dataframe tbody tr th {\n",
       "        vertical-align: top;\n",
       "    }\n",
       "\n",
       "    .dataframe thead th {\n",
       "        text-align: right;\n",
       "    }\n",
       "</style>\n",
       "<table border=\"1\" class=\"dataframe\">\n",
       "  <thead>\n",
       "    <tr style=\"text-align: right;\">\n",
       "      <th></th>\n",
       "      <th>Unnamed: 0</th>\n",
       "      <th>query</th>\n",
       "      <th>in_query</th>\n",
       "      <th>test</th>\n",
       "    </tr>\n",
       "  </thead>\n",
       "  <tbody>\n",
       "    <tr>\n",
       "      <th>0</th>\n",
       "      <td>0</td>\n",
       "      <td>ashcanvas loafer</td>\n",
       "      <td>black leather shoe</td>\n",
       "      <td>[ashcanvas, loafer]</td>\n",
       "    </tr>\n",
       "    <tr>\n",
       "      <th>1</th>\n",
       "      <td>2</td>\n",
       "      <td>black backpack</td>\n",
       "      <td>black leather shoe</td>\n",
       "      <td>[black, backpack]</td>\n",
       "    </tr>\n",
       "    <tr>\n",
       "      <th>2</th>\n",
       "      <td>5</td>\n",
       "      <td>black belt</td>\n",
       "      <td>black leather shoe</td>\n",
       "      <td>[black, belt]</td>\n",
       "    </tr>\n",
       "    <tr>\n",
       "      <th>3</th>\n",
       "      <td>11</td>\n",
       "      <td>black boot</td>\n",
       "      <td>black leather shoe</td>\n",
       "      <td>[black, boot]</td>\n",
       "    </tr>\n",
       "    <tr>\n",
       "      <th>4</th>\n",
       "      <td>22</td>\n",
       "      <td>black coat outerwear</td>\n",
       "      <td>black leather shoe</td>\n",
       "      <td>[black, coat, outerwear]</td>\n",
       "    </tr>\n",
       "  </tbody>\n",
       "</table>\n",
       "</div>"
      ],
      "text/plain": [
       "   Unnamed: 0                 query            in_query  \\\n",
       "0           0      ashcanvas loafer  black leather shoe   \n",
       "1           2        black backpack  black leather shoe   \n",
       "2           5            black belt  black leather shoe   \n",
       "3          11            black boot  black leather shoe   \n",
       "4          22  black coat outerwear  black leather shoe   \n",
       "\n",
       "                       test  \n",
       "0       [ashcanvas, loafer]  \n",
       "1         [black, backpack]  \n",
       "2             [black, belt]  \n",
       "3             [black, boot]  \n",
       "4  [black, coat, outerwear]  "
      ]
     },
     "execution_count": 18,
     "metadata": {},
     "output_type": "execute_result"
    }
   ],
   "source": [
    "top_query.head()"
   ]
  },
  {
   "cell_type": "code",
   "execution_count": 15,
   "metadata": {},
   "outputs": [
    {
     "data": {
      "text/html": [
       "<div>\n",
       "<style scoped>\n",
       "    .dataframe tbody tr th:only-of-type {\n",
       "        vertical-align: middle;\n",
       "    }\n",
       "\n",
       "    .dataframe tbody tr th {\n",
       "        vertical-align: top;\n",
       "    }\n",
       "\n",
       "    .dataframe thead th {\n",
       "        text-align: right;\n",
       "    }\n",
       "</style>\n",
       "<table border=\"1\" class=\"dataframe\">\n",
       "  <thead>\n",
       "    <tr style=\"text-align: right;\">\n",
       "      <th></th>\n",
       "      <th>Unnamed: 0</th>\n",
       "      <th>query</th>\n",
       "      <th>in_query</th>\n",
       "    </tr>\n",
       "  </thead>\n",
       "  <tbody>\n",
       "    <tr>\n",
       "      <th>15</th>\n",
       "      <td>72</td>\n",
       "      <td>black shirt top</td>\n",
       "      <td>black leather shoe</td>\n",
       "    </tr>\n",
       "  </tbody>\n",
       "</table>\n",
       "</div>"
      ],
      "text/plain": [
       "    Unnamed: 0            query            in_query\n",
       "15          72  black shirt top  black leather shoe"
      ]
     },
     "execution_count": 15,
     "metadata": {},
     "output_type": "execute_result"
    }
   ],
   "source": [
    "top_query[top_query['query'] == 'black shirt top'].head()"
   ]
  },
  {
   "cell_type": "code",
   "execution_count": 97,
   "metadata": {},
   "outputs": [
    {
     "data": {
      "text/plain": [
       "'{\"15\":\"black shirt top\",\"9\":\"black hat\",\"78\":\"white shirt top\",\"37\":\"khaki shirt top\",\"1\":\"black backpack\"}'"
      ]
     },
     "execution_count": 97,
     "metadata": {},
     "output_type": "execute_result"
    }
   ],
   "source": [
    "top_query.sort_values('score',ascending=True).head(5)['query'].to_json()"
   ]
  },
  {
   "cell_type": "code",
   "execution_count": 1,
   "metadata": {},
   "outputs": [
    {
     "data": {
      "text/plain": [
       "['b', 'l', 'a', 'c', 'k', ' ', 's', 'h', 'i', 'r', 't', ' ', 't', 'o', 'p']"
      ]
     },
     "execution_count": 1,
     "metadata": {},
     "output_type": "execute_result"
    }
   ],
   "source": [
    "(\"black shirt top\")"
   ]
  },
  {
   "cell_type": "code",
   "execution_count": null,
   "metadata": {},
   "outputs": [],
   "source": []
  }
 ],
 "metadata": {
  "kernelspec": {
   "display_name": "Python 3",
   "language": "python",
   "name": "python3"
  },
  "language_info": {
   "codemirror_mode": {
    "name": "ipython",
    "version": 3
   },
   "file_extension": ".py",
   "mimetype": "text/x-python",
   "name": "python",
   "nbconvert_exporter": "python",
   "pygments_lexer": "ipython3",
   "version": "3.6.4"
  }
 },
 "nbformat": 4,
 "nbformat_minor": 2
}
