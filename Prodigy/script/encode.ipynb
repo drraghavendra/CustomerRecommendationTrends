{
 "cells": [
  {
   "cell_type": "code",
   "execution_count": 1,
   "metadata": {},
   "outputs": [],
   "source": [
    "import numpy as np\n",
    "import scipy\n",
    "import nltk\n",
    "from nltk.corpus import stopwords\n",
    "from nltk.tokenize import word_tokenize \n",
    "from nltk.stem import WordNetLemmatizer\n",
    "import re\n",
    "import string\n",
    "import pandas as pd"
   ]
  },
  {
   "cell_type": "code",
   "execution_count": 2,
   "metadata": {},
   "outputs": [
    {
     "name": "stdout",
     "output_type": "stream",
     "text": [
      "[nltk_data] Downloading package stopwords to\n",
      "[nltk_data]     /Users/saurabhshashank/nltk_data...\n",
      "[nltk_data]   Package stopwords is already up-to-date!\n",
      "[nltk_data] Downloading package punkt to\n",
      "[nltk_data]     /Users/saurabhshashank/nltk_data...\n",
      "[nltk_data]   Package punkt is already up-to-date!\n",
      "[nltk_data] Downloading package wordnet to\n",
      "[nltk_data]     /Users/saurabhshashank/nltk_data...\n",
      "[nltk_data]   Package wordnet is already up-to-date!\n"
     ]
    },
    {
     "data": {
      "text/plain": [
       "True"
      ]
     },
     "execution_count": 2,
     "metadata": {},
     "output_type": "execute_result"
    }
   ],
   "source": [
    "nltk.download('stopwords')\n",
    "nltk.download('punkt')\n",
    "nltk.download('wordnet')"
   ]
  },
  {
   "cell_type": "code",
   "execution_count": 3,
   "metadata": {},
   "outputs": [],
   "source": [
    "def nlp_treatment(s1):\n",
    "    s1=s1.lower()\n",
    "    result = re.sub(r'\\d+', '', s1)\n",
    "    translator = str.maketrans('', '', string.punctuation)\n",
    "    result = result.translate(translator)\n",
    "    result=result.strip()\n",
    "    #print(\"post number, punctuation,space removal ={0}\".format(result))\n",
    "    return result\n",
    "def remove_stop_words(s1):\n",
    "    stop_words=set(stopwords.words('english'))\n",
    "    word_tokens = word_tokenize(s1)\n",
    "    filtered_sentence = [w for w in word_tokens if not w in stop_words]\n",
    "    #print('post stop word removal ={0}'.format(filtered_sentence))\n",
    "    return filtered_sentence\n",
    "def lemiatize(s1):\n",
    "    lemmatizer = WordNetLemmatizer()\n",
    "    lem_words=[lemmatizer.lemmatize(w) for w in s1]\n",
    "    #print('post lematize = {0}'.format(lem_words))\n",
    "    return lem_words\n",
    "\n",
    "def preprocess(s1):\n",
    "    s1=nlp_treatment(s1)\n",
    "    s1=remove_stop_words(s1)\n",
    "    s1=lemiatize(s1)\n",
    "    return s1\n",
    "\n",
    "def loadGloveModel(gloveFile):\n",
    "    print(\"Loading Model . . . . . . . . . . . . . . . . . . . . . . . . . . . . . . . .\")\n",
    "    f = open(gloveFile,'r', encoding=\"utf8\")\n",
    "    model = {}\n",
    "    counter = 0\n",
    "    for line in f:\n",
    "        counter+=1\n",
    "        try:\n",
    "            splitLine = line.split()\n",
    "            word = splitLine[0]\n",
    "            embedding = np.array([float(val) for val in splitLine[1:]])\n",
    "            model[word] = embedding\n",
    "        except Exception as e:\n",
    "            continue\n",
    "#             print('error = {0}, input = {1}'.format(e,line))\n",
    "        if counter % 100000 == 0 :\n",
    "            print(\"Done.\",len(model),\" words loaded . . . . . . . . . . . . . . . . . . . . . . . . . . . . . . . .\")\n",
    "    print(\"Done.\",len(model),\" words loaded!\")\n",
    "    return model\n",
    "\n",
    "def cosine_distance_wordembedding_method(model,s1, s2):\n",
    "    vector_1 = np.mean([model[word] for word in preprocess(s1)],axis=0)\n",
    "    vector_2 = np.mean([model[word] for word in preprocess(s2)],axis=0)\n",
    "    cosine = scipy.spatial.distance.cosine(vector_1, vector_2)\n",
    "    print('--------------------------------------------------------------')\n",
    "    print('Score',round((1-cosine)*100,2),'%')\n",
    "    print('--------------------------------------------------------------')\n",
    "\n",
    "def find_sim(model):\n",
    "    print('------------------------------- Enter Senetence one -------------------------------')\n",
    "    sen_1=input()\n",
    "    print('------------------------------- Enter Senetence two -------------------------------')\n",
    "    sen_2=input()\n",
    "    cosine_distance_wordembedding_method(model,sen_1,sen_2)"
   ]
  },
  {
   "cell_type": "code",
   "execution_count": 4,
   "metadata": {},
   "outputs": [
    {
     "name": "stdout",
     "output_type": "stream",
     "text": [
      "Loading Model . . . . . . . . . . . . . . . . . . . . . . . . . . . . . . . .\n",
      "Done. 100000  words loaded . . . . . . . . . . . . . . . . . . . . . . . . . . . . . . . .\n",
      "Done. 200000  words loaded . . . . . . . . . . . . . . . . . . . . . . . . . . . . . . . .\n",
      "Done. 300000  words loaded . . . . . . . . . . . . . . . . . . . . . . . . . . . . . . . .\n",
      "Done. 400000  words loaded . . . . . . . . . . . . . . . . . . . . . . . . . . . . . . . .\n",
      "Done. 400000  words loaded!\n"
     ]
    }
   ],
   "source": [
    "if __name__ == '__main__':\n",
    "    glove_path='./glove.6B/glove.6B.300d.txt'\n",
    "    model=loadGloveModel(glove_path)\n",
    "#     print(' Enter q to Quite \\n Any key to Continue')\n",
    "#     control=input()\n",
    "#     while( control.upper() != 'Q' ):\n",
    "#         find_sim(model)\n",
    "#         print(' Enter q to Quite \\n Any key to Continue')\n",
    "#         control=input()"
   ]
  },
  {
   "cell_type": "code",
   "execution_count": 5,
   "metadata": {},
   "outputs": [],
   "source": [
    "def get_score(row):\n",
    "    try:\n",
    "        s1=row.query\n",
    "        return np.mean([model[word] for word in preprocess(s1)],axis=0)\n",
    "    except:pass"
   ]
  },
  {
   "cell_type": "code",
   "execution_count": 31,
   "metadata": {},
   "outputs": [],
   "source": [
    "top_query=pd.read_csv('frequent_query.csv')"
   ]
  },
  {
   "cell_type": "code",
   "execution_count": 32,
   "metadata": {},
   "outputs": [
    {
     "data": {
      "text/plain": [
       "(319853, 2)"
      ]
     },
     "execution_count": 32,
     "metadata": {},
     "output_type": "execute_result"
    }
   ],
   "source": [
    "top_query.shape"
   ]
  },
  {
   "cell_type": "code",
   "execution_count": 25,
   "metadata": {},
   "outputs": [
    {
     "data": {
      "text/html": [
       "<div>\n",
       "<style scoped>\n",
       "    .dataframe tbody tr th:only-of-type {\n",
       "        vertical-align: middle;\n",
       "    }\n",
       "\n",
       "    .dataframe tbody tr th {\n",
       "        vertical-align: top;\n",
       "    }\n",
       "\n",
       "    .dataframe thead th {\n",
       "        text-align: right;\n",
       "    }\n",
       "</style>\n",
       "<table border=\"1\" class=\"dataframe\">\n",
       "  <thead>\n",
       "    <tr style=\"text-align: right;\">\n",
       "      <th></th>\n",
       "      <th>Unnamed: 0</th>\n",
       "      <th>query</th>\n",
       "    </tr>\n",
       "  </thead>\n",
       "  <tbody>\n",
       "    <tr>\n",
       "      <th>0</th>\n",
       "      <td>0</td>\n",
       "      <td>ashcanvas loafer</td>\n",
       "    </tr>\n",
       "    <tr>\n",
       "      <th>1</th>\n",
       "      <td>1</td>\n",
       "      <td>ashcanvas loafer</td>\n",
       "    </tr>\n",
       "    <tr>\n",
       "      <th>2</th>\n",
       "      <td>2</td>\n",
       "      <td>black backpack</td>\n",
       "    </tr>\n",
       "    <tr>\n",
       "      <th>3</th>\n",
       "      <td>3</td>\n",
       "      <td>black backpack</td>\n",
       "    </tr>\n",
       "    <tr>\n",
       "      <th>4</th>\n",
       "      <td>4</td>\n",
       "      <td>black backpack</td>\n",
       "    </tr>\n",
       "  </tbody>\n",
       "</table>\n",
       "</div>"
      ],
      "text/plain": [
       "   Unnamed: 0             query\n",
       "0           0  ashcanvas loafer\n",
       "1           1  ashcanvas loafer\n",
       "2           2    black backpack\n",
       "3           3    black backpack\n",
       "4           4    black backpack"
      ]
     },
     "execution_count": 25,
     "metadata": {},
     "output_type": "execute_result"
    }
   ],
   "source": [
    "top_query.head()"
   ]
  },
  {
   "cell_type": "code",
   "execution_count": 27,
   "metadata": {},
   "outputs": [],
   "source": [
    "top_query.drop_duplicates('query',inplace=True)"
   ]
  },
  {
   "cell_type": "code",
   "execution_count": 34,
   "metadata": {},
   "outputs": [],
   "source": [
    "top_query['vec']=top_query.apply(get_score,axis=1)"
   ]
  },
  {
   "cell_type": "code",
   "execution_count": 33,
   "metadata": {},
   "outputs": [
    {
     "data": {
      "text/plain": [
       "(319853, 2)"
      ]
     },
     "execution_count": 33,
     "metadata": {},
     "output_type": "execute_result"
    }
   ],
   "source": [
    "top_query.shape"
   ]
  },
  {
   "cell_type": "code",
   "execution_count": 29,
   "metadata": {},
   "outputs": [
    {
     "data": {
      "text/html": [
       "<div>\n",
       "<style scoped>\n",
       "    .dataframe tbody tr th:only-of-type {\n",
       "        vertical-align: middle;\n",
       "    }\n",
       "\n",
       "    .dataframe tbody tr th {\n",
       "        vertical-align: top;\n",
       "    }\n",
       "\n",
       "    .dataframe thead th {\n",
       "        text-align: right;\n",
       "    }\n",
       "</style>\n",
       "<table border=\"1\" class=\"dataframe\">\n",
       "  <thead>\n",
       "    <tr style=\"text-align: right;\">\n",
       "      <th></th>\n",
       "      <th>Unnamed: 0</th>\n",
       "      <th>query</th>\n",
       "      <th>vec</th>\n",
       "    </tr>\n",
       "  </thead>\n",
       "  <tbody>\n",
       "    <tr>\n",
       "      <th>0</th>\n",
       "      <td>0</td>\n",
       "      <td>ashcanvas loafer</td>\n",
       "      <td>None</td>\n",
       "    </tr>\n",
       "    <tr>\n",
       "      <th>2</th>\n",
       "      <td>2</td>\n",
       "      <td>black backpack</td>\n",
       "      <td>[-0.1901475, -0.047051499999999996, -0.0162699...</td>\n",
       "    </tr>\n",
       "    <tr>\n",
       "      <th>5</th>\n",
       "      <td>5</td>\n",
       "      <td>black belt</td>\n",
       "      <td>[-0.0394776, 0.048766000000000004, 0.325655000...</td>\n",
       "    </tr>\n",
       "    <tr>\n",
       "      <th>11</th>\n",
       "      <td>11</td>\n",
       "      <td>black boot</td>\n",
       "      <td>[0.1481325, 0.2470735, 0.12211500000000002, -0...</td>\n",
       "    </tr>\n",
       "    <tr>\n",
       "      <th>22</th>\n",
       "      <td>22</td>\n",
       "      <td>black coat outerwear</td>\n",
       "      <td>[0.10773766666666668, -0.06480433333333334, 0....</td>\n",
       "    </tr>\n",
       "  </tbody>\n",
       "</table>\n",
       "</div>"
      ],
      "text/plain": [
       "    Unnamed: 0                 query  \\\n",
       "0            0      ashcanvas loafer   \n",
       "2            2        black backpack   \n",
       "5            5            black belt   \n",
       "11          11            black boot   \n",
       "22          22  black coat outerwear   \n",
       "\n",
       "                                                  vec  \n",
       "0                                                None  \n",
       "2   [-0.1901475, -0.047051499999999996, -0.0162699...  \n",
       "5   [-0.0394776, 0.048766000000000004, 0.325655000...  \n",
       "11  [0.1481325, 0.2470735, 0.12211500000000002, -0...  \n",
       "22  [0.10773766666666668, -0.06480433333333334, 0....  "
      ]
     },
     "execution_count": 29,
     "metadata": {},
     "output_type": "execute_result"
    }
   ],
   "source": [
    "top_query.head()"
   ]
  },
  {
   "cell_type": "code",
   "execution_count": 10,
   "metadata": {},
   "outputs": [],
   "source": [
    "top_query.to_csv('query_vec.csv')"
   ]
  },
  {
   "cell_type": "code",
   "execution_count": 11,
   "metadata": {},
   "outputs": [
    {
     "name": "stdout",
     "output_type": "stream",
     "text": [
      "hello\n"
     ]
    }
   ],
   "source": [
    "print('hello')"
   ]
  },
  {
   "cell_type": "code",
   "execution_count": 12,
   "metadata": {},
   "outputs": [],
   "source": [
    "newDF = pd.DataFrame()"
   ]
  },
  {
   "cell_type": "code",
   "execution_count": 23,
   "metadata": {},
   "outputs": [],
   "source": [
    "newDF['t']=['test']"
   ]
  },
  {
   "cell_type": "code",
   "execution_count": 18,
   "metadata": {},
   "outputs": [],
   "source": [
    "newDF['t']=[1]"
   ]
  },
  {
   "cell_type": "code",
   "execution_count": 22,
   "metadata": {},
   "outputs": [
    {
     "data": {
      "text/html": [
       "<div>\n",
       "<style scoped>\n",
       "    .dataframe tbody tr th:only-of-type {\n",
       "        vertical-align: middle;\n",
       "    }\n",
       "\n",
       "    .dataframe tbody tr th {\n",
       "        vertical-align: top;\n",
       "    }\n",
       "\n",
       "    .dataframe thead th {\n",
       "        text-align: right;\n",
       "    }\n",
       "</style>\n",
       "<table border=\"1\" class=\"dataframe\">\n",
       "  <thead>\n",
       "    <tr style=\"text-align: right;\">\n",
       "      <th></th>\n",
       "      <th>t</th>\n",
       "    </tr>\n",
       "  </thead>\n",
       "  <tbody>\n",
       "    <tr>\n",
       "      <th>0</th>\n",
       "      <td>test</td>\n",
       "    </tr>\n",
       "  </tbody>\n",
       "</table>\n",
       "</div>"
      ],
      "text/plain": [
       "      t\n",
       "0  test"
      ]
     },
     "execution_count": 22,
     "metadata": {},
     "output_type": "execute_result"
    }
   ],
   "source": [
    "newDF.head()"
   ]
  },
  {
   "cell_type": "code",
   "execution_count": 21,
   "metadata": {},
   "outputs": [],
   "source": [
    "newDF['t']='test'"
   ]
  },
  {
   "cell_type": "code",
   "execution_count": null,
   "metadata": {},
   "outputs": [],
   "source": []
  }
 ],
 "metadata": {
  "kernelspec": {
   "display_name": "Python 3",
   "language": "python",
   "name": "python3"
  },
  "language_info": {
   "codemirror_mode": {
    "name": "ipython",
    "version": 3
   },
   "file_extension": ".py",
   "mimetype": "text/x-python",
   "name": "python",
   "nbconvert_exporter": "python",
   "pygments_lexer": "ipython3",
   "version": "3.6.4"
  }
 },
 "nbformat": 4,
 "nbformat_minor": 2
}
